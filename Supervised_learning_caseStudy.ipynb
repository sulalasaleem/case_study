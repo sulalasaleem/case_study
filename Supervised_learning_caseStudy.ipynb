{
 "cells": [
  {
   "cell_type": "markdown",
   "id": "914bc1b3",
   "metadata": {},
   "source": [
    "# Importing and reading dataset"
   ]
  },
  {
   "cell_type": "code",
   "execution_count": 2,
   "id": "72fbb707",
   "metadata": {},
   "outputs": [],
   "source": [
    "import pandas as pd\n",
    "import numpy as np\n",
    "import matplotlib.pyplot as plt\n",
    "import seaborn as sns"
   ]
  },
  {
   "cell_type": "code",
   "execution_count": 3,
   "id": "f706226d",
   "metadata": {},
   "outputs": [],
   "source": [
    "df = pd.read_excel('iris.xls')"
   ]
  },
  {
   "cell_type": "code",
   "execution_count": 4,
   "id": "df22a279",
   "metadata": {},
   "outputs": [
    {
     "data": {
      "text/html": [
       "<div>\n",
       "<style scoped>\n",
       "    .dataframe tbody tr th:only-of-type {\n",
       "        vertical-align: middle;\n",
       "    }\n",
       "\n",
       "    .dataframe tbody tr th {\n",
       "        vertical-align: top;\n",
       "    }\n",
       "\n",
       "    .dataframe thead th {\n",
       "        text-align: right;\n",
       "    }\n",
       "</style>\n",
       "<table border=\"1\" class=\"dataframe\">\n",
       "  <thead>\n",
       "    <tr style=\"text-align: right;\">\n",
       "      <th></th>\n",
       "      <th>SL</th>\n",
       "      <th>SW</th>\n",
       "      <th>PL</th>\n",
       "      <th>PW</th>\n",
       "      <th>Classification</th>\n",
       "    </tr>\n",
       "  </thead>\n",
       "  <tbody>\n",
       "    <tr>\n",
       "      <th>0</th>\n",
       "      <td>5.1</td>\n",
       "      <td>3.5</td>\n",
       "      <td>1.4</td>\n",
       "      <td>0.2</td>\n",
       "      <td>Iris-setosa</td>\n",
       "    </tr>\n",
       "    <tr>\n",
       "      <th>1</th>\n",
       "      <td>4.9</td>\n",
       "      <td>3.0</td>\n",
       "      <td>1.4</td>\n",
       "      <td>0.2</td>\n",
       "      <td>Iris-setosa</td>\n",
       "    </tr>\n",
       "    <tr>\n",
       "      <th>2</th>\n",
       "      <td>4.7</td>\n",
       "      <td>3.2</td>\n",
       "      <td>1.3</td>\n",
       "      <td>0.2</td>\n",
       "      <td>Iris-setosa</td>\n",
       "    </tr>\n",
       "    <tr>\n",
       "      <th>3</th>\n",
       "      <td>4.6</td>\n",
       "      <td>3.1</td>\n",
       "      <td>1.5</td>\n",
       "      <td>0.2</td>\n",
       "      <td>Iris-setosa</td>\n",
       "    </tr>\n",
       "    <tr>\n",
       "      <th>4</th>\n",
       "      <td>5.0</td>\n",
       "      <td>3.6</td>\n",
       "      <td>1.4</td>\n",
       "      <td>0.2</td>\n",
       "      <td>Iris-setosa</td>\n",
       "    </tr>\n",
       "  </tbody>\n",
       "</table>\n",
       "</div>"
      ],
      "text/plain": [
       "    SL   SW   PL   PW Classification\n",
       "0  5.1  3.5  1.4  0.2    Iris-setosa\n",
       "1  4.9  3.0  1.4  0.2    Iris-setosa\n",
       "2  4.7  3.2  1.3  0.2    Iris-setosa\n",
       "3  4.6  3.1  1.5  0.2    Iris-setosa\n",
       "4  5.0  3.6  1.4  0.2    Iris-setosa"
      ]
     },
     "execution_count": 4,
     "metadata": {},
     "output_type": "execute_result"
    }
   ],
   "source": [
    "df.head()"
   ]
  },
  {
   "cell_type": "code",
   "execution_count": 5,
   "id": "b5551f35",
   "metadata": {},
   "outputs": [
    {
     "name": "stdout",
     "output_type": "stream",
     "text": [
      "<class 'pandas.core.frame.DataFrame'>\n",
      "RangeIndex: 150 entries, 0 to 149\n",
      "Data columns (total 5 columns):\n",
      " #   Column          Non-Null Count  Dtype  \n",
      "---  ------          --------------  -----  \n",
      " 0   SL              150 non-null    float64\n",
      " 1   SW              150 non-null    float64\n",
      " 2   PL              150 non-null    float64\n",
      " 3   PW              150 non-null    float64\n",
      " 4   Classification  150 non-null    object \n",
      "dtypes: float64(4), object(1)\n",
      "memory usage: 6.0+ KB\n"
     ]
    }
   ],
   "source": [
    "df.info()"
   ]
  },
  {
   "cell_type": "code",
   "execution_count": 6,
   "id": "ba3f7e36",
   "metadata": {},
   "outputs": [
    {
     "data": {
      "text/html": [
       "<div>\n",
       "<style scoped>\n",
       "    .dataframe tbody tr th:only-of-type {\n",
       "        vertical-align: middle;\n",
       "    }\n",
       "\n",
       "    .dataframe tbody tr th {\n",
       "        vertical-align: top;\n",
       "    }\n",
       "\n",
       "    .dataframe thead th {\n",
       "        text-align: right;\n",
       "    }\n",
       "</style>\n",
       "<table border=\"1\" class=\"dataframe\">\n",
       "  <thead>\n",
       "    <tr style=\"text-align: right;\">\n",
       "      <th></th>\n",
       "      <th>SL</th>\n",
       "      <th>SW</th>\n",
       "      <th>PL</th>\n",
       "      <th>PW</th>\n",
       "    </tr>\n",
       "  </thead>\n",
       "  <tbody>\n",
       "    <tr>\n",
       "      <th>count</th>\n",
       "      <td>150.000000</td>\n",
       "      <td>150.000000</td>\n",
       "      <td>150.000000</td>\n",
       "      <td>150.000000</td>\n",
       "    </tr>\n",
       "    <tr>\n",
       "      <th>mean</th>\n",
       "      <td>5.843333</td>\n",
       "      <td>3.054000</td>\n",
       "      <td>3.758667</td>\n",
       "      <td>1.198667</td>\n",
       "    </tr>\n",
       "    <tr>\n",
       "      <th>std</th>\n",
       "      <td>0.828066</td>\n",
       "      <td>0.433594</td>\n",
       "      <td>1.764420</td>\n",
       "      <td>0.763161</td>\n",
       "    </tr>\n",
       "    <tr>\n",
       "      <th>min</th>\n",
       "      <td>4.300000</td>\n",
       "      <td>2.000000</td>\n",
       "      <td>1.000000</td>\n",
       "      <td>0.100000</td>\n",
       "    </tr>\n",
       "    <tr>\n",
       "      <th>25%</th>\n",
       "      <td>5.100000</td>\n",
       "      <td>2.800000</td>\n",
       "      <td>1.600000</td>\n",
       "      <td>0.300000</td>\n",
       "    </tr>\n",
       "    <tr>\n",
       "      <th>50%</th>\n",
       "      <td>5.800000</td>\n",
       "      <td>3.000000</td>\n",
       "      <td>4.350000</td>\n",
       "      <td>1.300000</td>\n",
       "    </tr>\n",
       "    <tr>\n",
       "      <th>75%</th>\n",
       "      <td>6.400000</td>\n",
       "      <td>3.300000</td>\n",
       "      <td>5.100000</td>\n",
       "      <td>1.800000</td>\n",
       "    </tr>\n",
       "    <tr>\n",
       "      <th>max</th>\n",
       "      <td>7.900000</td>\n",
       "      <td>4.400000</td>\n",
       "      <td>6.900000</td>\n",
       "      <td>2.500000</td>\n",
       "    </tr>\n",
       "  </tbody>\n",
       "</table>\n",
       "</div>"
      ],
      "text/plain": [
       "               SL          SW          PL          PW\n",
       "count  150.000000  150.000000  150.000000  150.000000\n",
       "mean     5.843333    3.054000    3.758667    1.198667\n",
       "std      0.828066    0.433594    1.764420    0.763161\n",
       "min      4.300000    2.000000    1.000000    0.100000\n",
       "25%      5.100000    2.800000    1.600000    0.300000\n",
       "50%      5.800000    3.000000    4.350000    1.300000\n",
       "75%      6.400000    3.300000    5.100000    1.800000\n",
       "max      7.900000    4.400000    6.900000    2.500000"
      ]
     },
     "execution_count": 6,
     "metadata": {},
     "output_type": "execute_result"
    }
   ],
   "source": [
    "df.describe()"
   ]
  },
  {
   "cell_type": "markdown",
   "id": "95593f78",
   "metadata": {},
   "source": [
    "# Data Cleaning"
   ]
  },
  {
   "cell_type": "code",
   "execution_count": 7,
   "id": "eafb635a",
   "metadata": {},
   "outputs": [
    {
     "data": {
      "text/plain": [
       "SL                0\n",
       "SW                0\n",
       "PL                0\n",
       "PW                0\n",
       "Classification    0\n",
       "dtype: int64"
      ]
     },
     "execution_count": 7,
     "metadata": {},
     "output_type": "execute_result"
    }
   ],
   "source": [
    "df.isnull().sum()"
   ]
  },
  {
   "cell_type": "code",
   "execution_count": 8,
   "id": "d35d3ec9",
   "metadata": {},
   "outputs": [
    {
     "data": {
      "text/plain": [
       "array([[<AxesSubplot:title={'center':'SL'}>,\n",
       "        <AxesSubplot:title={'center':'SW'}>,\n",
       "        <AxesSubplot:title={'center':'PL'}>],\n",
       "       [<AxesSubplot:title={'center':'PW'}>, <AxesSubplot:>,\n",
       "        <AxesSubplot:>],\n",
       "       [<AxesSubplot:>, <AxesSubplot:>, <AxesSubplot:>],\n",
       "       [<AxesSubplot:>, <AxesSubplot:>, <AxesSubplot:>],\n",
       "       [<AxesSubplot:>, <AxesSubplot:>, <AxesSubplot:>]], dtype=object)"
      ]
     },
     "execution_count": 8,
     "metadata": {},
     "output_type": "execute_result"
    },
    {
     "data": {
      "image/png": "[encoded data removed]",
      "text/plain": [
       "<Figure size 864x864 with 15 Axes>"
      ]
     },
     "metadata": {
      "needs_background": "light"
     },
     "output_type": "display_data"
    }
   ],
   "source": [
    "df.hist(figsize=(12,12),layout=(5,3))"
   ]
  },
  {
   "cell_type": "code",
   "execution_count": 9,
   "id": "94a18670",
   "metadata": {},
   "outputs": [],
   "source": [
    "df['SL']=df['SL'].fillna(df['SL'].median())\n",
    "df['SW']=df['SW'].fillna(df['SW'].median())\n",
    "df['PL']=df['PL'].fillna(df['PL'].median())"
   ]
  },
  {
   "cell_type": "code",
   "execution_count": 10,
   "id": "2539f1e0",
   "metadata": {},
   "outputs": [
    {
     "data": {
      "text/plain": [
       "SL                0\n",
       "SW                0\n",
       "PL                0\n",
       "PW                0\n",
       "Classification    0\n",
       "dtype: int64"
      ]
     },
     "execution_count": 10,
     "metadata": {},
     "output_type": "execute_result"
    }
   ],
   "source": [
    "df.isna().sum()"
   ]
  },
  {
   "cell_type": "markdown",
   "id": "78afe4cf",
   "metadata": {},
   "source": [
    "# Outliers"
   ]
  },
  {
   "cell_type": "code",
   "execution_count": 11,
   "id": "d32bb717",
   "metadata": {},
   "outputs": [
    {
     "data": {
      "text/plain": [
       "SL       AxesSubplot(0.125,0.749828;0.227941x0.130172)\n",
       "SW    AxesSubplot(0.398529,0.749828;0.227941x0.130172)\n",
       "PL    AxesSubplot(0.672059,0.749828;0.227941x0.130172)\n",
       "PW       AxesSubplot(0.125,0.593621;0.227941x0.130172)\n",
       "dtype: object"
      ]
     },
     "execution_count": 11,
     "metadata": {},
     "output_type": "execute_result"
    },
    {
     "data": {
      "image/png": "[encoded data removed]",
      "text/plain": [
       "<Figure size 864x864 with 15 Axes>"
      ]
     },
     "metadata": {
      "needs_background": "light"
     },
     "output_type": "display_data"
    }
   ],
   "source": [
    "df.plot(kind='box',subplots=True,figsize=(12,12),layout=(5,3))"
   ]
  },
  {
   "cell_type": "markdown",
   "id": "74b294a2",
   "metadata": {},
   "source": [
    "Insight : As we can see there are outliers present in 'SW' feature"
   ]
  },
  {
   "cell_type": "code",
   "execution_count": 12,
   "id": "039fc3a4",
   "metadata": {},
   "outputs": [
    {
     "data": {
      "image/png": "[encoded data removed]",
      "text/plain": [
       "<Figure size 432x288 with 1 Axes>"
      ]
     },
     "metadata": {
      "needs_background": "light"
     },
     "output_type": "display_data"
    }
   ],
   "source": [
    "plt.boxplot(df['SW'])\n",
    "plt.show()"
   ]
  },
  {
   "cell_type": "code",
   "execution_count": 13,
   "id": "17dc1d56",
   "metadata": {},
   "outputs": [
    {
     "name": "stdout",
     "output_type": "stream",
     "text": [
      "Q1 =  2.8 \n",
      "Q2 =  3.0 \n",
      "Q3 =  3.3\n",
      "IQR =  0.5\n",
      "Upper limit =  4.05 \n",
      "Lower limit =  2.05\n",
      "List of outliers:  [4.4, 4.1, 4.2, 2.0]\n"
     ]
    }
   ],
   "source": [
    "Q1 = np.percentile(df['SW'],25,interpolation='midpoint')\n",
    "Q2 = np.percentile(df['SW'],50,interpolation='midpoint')\n",
    "Q3 = np.percentile(df['SW'],75,interpolation='midpoint')\n",
    "print('Q1 = ',Q1,'\\nQ2 = ',round(Q2,2),'\\nQ3 = ',Q3)\n",
    "\n",
    "# Calculating inter quartile range\n",
    "\n",
    "IQR = Q3-Q1\n",
    "print('IQR = ',round(IQR,2))\n",
    "\n",
    "# Calculating the upper and lower limit of outliers\n",
    "\n",
    "low_lim = Q1-(1.5*IQR)\n",
    "up_lim = Q3+(1.5*IQR)\n",
    "print('Upper limit = ',up_lim ,'\\nLower limit = ',low_lim)\n",
    "\n",
    "# Creating a list of outliers\n",
    "\n",
    "outlier=[]\n",
    "for x in df['SW']:\n",
    "    if (x>up_lim or x<low_lim):\n",
    "        outlier.append(x)\n",
    "print('List of outliers: ',outlier)"
   ]
  },
  {
   "cell_type": "code",
   "execution_count": 14,
   "id": "e3ee8ec7",
   "metadata": {},
   "outputs": [
    {
     "data": {
      "text/plain": [
       "Int64Index([15, 32, 33, 60], dtype='int64')"
      ]
     },
     "execution_count": 14,
     "metadata": {},
     "output_type": "execute_result"
    }
   ],
   "source": [
    "df.loc[(df['SW']>up_lim ) | (df['SW']<low_lim)].index"
   ]
  },
  {
   "cell_type": "code",
   "execution_count": 15,
   "id": "0ffce98e",
   "metadata": {},
   "outputs": [],
   "source": [
    "\n",
    "df.drop([ 14, 15, 32, 33, 60],inplace=True)"
   ]
  },
  {
   "cell_type": "code",
   "execution_count": 16,
   "id": "48f8a4b3",
   "metadata": {},
   "outputs": [
    {
     "data": {
      "image/png": "[encoded data removed]",
      "text/plain": [
       "<Figure size 432x288 with 1 Axes>"
      ]
     },
     "metadata": {
      "needs_background": "light"
     },
     "output_type": "display_data"
    }
   ],
   "source": [
    "plt.boxplot(df['SW'])\n",
    "plt.show()"
   ]
  },
  {
   "cell_type": "code",
   "execution_count": 17,
   "id": "0bb80233",
   "metadata": {},
   "outputs": [],
   "source": [
    "# Splitting data into independent and dependent variables\n",
    "\n",
    "# Dependent variable 'y'\n",
    "y = df['Classification']\n",
    "# Independent variable 'x'\n",
    "x = df.drop(['Classification'],axis=1)"
   ]
  },
  {
   "cell_type": "code",
   "execution_count": 18,
   "id": "de54d5c9",
   "metadata": {},
   "outputs": [
    {
     "data": {
      "text/html": [
       "<div>\n",
       "<style scoped>\n",
       "    .dataframe tbody tr th:only-of-type {\n",
       "        vertical-align: middle;\n",
       "    }\n",
       "\n",
       "    .dataframe tbody tr th {\n",
       "        vertical-align: top;\n",
       "    }\n",
       "\n",
       "    .dataframe thead th {\n",
       "        text-align: right;\n",
       "    }\n",
       "</style>\n",
       "<table border=\"1\" class=\"dataframe\">\n",
       "  <thead>\n",
       "    <tr style=\"text-align: right;\">\n",
       "      <th></th>\n",
       "      <th>SL</th>\n",
       "      <th>SW</th>\n",
       "      <th>PL</th>\n",
       "      <th>PW</th>\n",
       "    </tr>\n",
       "  </thead>\n",
       "  <tbody>\n",
       "    <tr>\n",
       "      <th>count</th>\n",
       "      <td>145.000000</td>\n",
       "      <td>145.000000</td>\n",
       "      <td>145.000000</td>\n",
       "      <td>145.000000</td>\n",
       "    </tr>\n",
       "    <tr>\n",
       "      <th>mean</th>\n",
       "      <td>5.857241</td>\n",
       "      <td>3.030345</td>\n",
       "      <td>3.825517</td>\n",
       "      <td>1.226897</td>\n",
       "    </tr>\n",
       "    <tr>\n",
       "      <th>std</th>\n",
       "      <td>0.836971</td>\n",
       "      <td>0.388252</td>\n",
       "      <td>1.749674</td>\n",
       "      <td>0.758219</td>\n",
       "    </tr>\n",
       "    <tr>\n",
       "      <th>min</th>\n",
       "      <td>4.300000</td>\n",
       "      <td>2.200000</td>\n",
       "      <td>1.000000</td>\n",
       "      <td>0.100000</td>\n",
       "    </tr>\n",
       "    <tr>\n",
       "      <th>25%</th>\n",
       "      <td>5.100000</td>\n",
       "      <td>2.800000</td>\n",
       "      <td>1.600000</td>\n",
       "      <td>0.300000</td>\n",
       "    </tr>\n",
       "    <tr>\n",
       "      <th>50%</th>\n",
       "      <td>5.800000</td>\n",
       "      <td>3.000000</td>\n",
       "      <td>4.400000</td>\n",
       "      <td>1.300000</td>\n",
       "    </tr>\n",
       "    <tr>\n",
       "      <th>75%</th>\n",
       "      <td>6.400000</td>\n",
       "      <td>3.300000</td>\n",
       "      <td>5.100000</td>\n",
       "      <td>1.800000</td>\n",
       "    </tr>\n",
       "    <tr>\n",
       "      <th>max</th>\n",
       "      <td>7.900000</td>\n",
       "      <td>3.900000</td>\n",
       "      <td>6.900000</td>\n",
       "      <td>2.500000</td>\n",
       "    </tr>\n",
       "  </tbody>\n",
       "</table>\n",
       "</div>"
      ],
      "text/plain": [
       "               SL          SW          PL          PW\n",
       "count  145.000000  145.000000  145.000000  145.000000\n",
       "mean     5.857241    3.030345    3.825517    1.226897\n",
       "std      0.836971    0.388252    1.749674    0.758219\n",
       "min      4.300000    2.200000    1.000000    0.100000\n",
       "25%      5.100000    2.800000    1.600000    0.300000\n",
       "50%      5.800000    3.000000    4.400000    1.300000\n",
       "75%      6.400000    3.300000    5.100000    1.800000\n",
       "max      7.900000    3.900000    6.900000    2.500000"
      ]
     },
     "execution_count": 18,
     "metadata": {},
     "output_type": "execute_result"
    }
   ],
   "source": [
    "# Statistical summary of 'x'\n",
    "\n",
    "x.describe()"
   ]
  },
  {
   "cell_type": "markdown",
   "id": "995bdf0a",
   "metadata": {},
   "source": [
    "# Normalization"
   ]
  },
  {
   "cell_type": "code",
   "execution_count": 19,
   "id": "07d4b49f",
   "metadata": {},
   "outputs": [
    {
     "data": {
      "text/html": [
       "<div>\n",
       "<style scoped>\n",
       "    .dataframe tbody tr th:only-of-type {\n",
       "        vertical-align: middle;\n",
       "    }\n",
       "\n",
       "    .dataframe tbody tr th {\n",
       "        vertical-align: top;\n",
       "    }\n",
       "\n",
       "    .dataframe thead th {\n",
       "        text-align: right;\n",
       "    }\n",
       "</style>\n",
       "<table border=\"1\" class=\"dataframe\">\n",
       "  <thead>\n",
       "    <tr style=\"text-align: right;\">\n",
       "      <th></th>\n",
       "      <th>0</th>\n",
       "      <th>1</th>\n",
       "      <th>2</th>\n",
       "      <th>3</th>\n",
       "    </tr>\n",
       "  </thead>\n",
       "  <tbody>\n",
       "    <tr>\n",
       "      <th>count</th>\n",
       "      <td>145.000000</td>\n",
       "      <td>145.000000</td>\n",
       "      <td>145.000000</td>\n",
       "      <td>145.000000</td>\n",
       "    </tr>\n",
       "    <tr>\n",
       "      <th>mean</th>\n",
       "      <td>0.750652</td>\n",
       "      <td>0.400373</td>\n",
       "      <td>0.461481</td>\n",
       "      <td>0.143900</td>\n",
       "    </tr>\n",
       "    <tr>\n",
       "      <th>std</th>\n",
       "      <td>0.044970</td>\n",
       "      <td>0.101945</td>\n",
       "      <td>0.156412</td>\n",
       "      <td>0.077251</td>\n",
       "    </tr>\n",
       "    <tr>\n",
       "      <th>min</th>\n",
       "      <td>0.653877</td>\n",
       "      <td>0.238392</td>\n",
       "      <td>0.168646</td>\n",
       "      <td>0.016695</td>\n",
       "    </tr>\n",
       "    <tr>\n",
       "      <th>25%</th>\n",
       "      <td>0.714914</td>\n",
       "      <td>0.326599</td>\n",
       "      <td>0.256589</td>\n",
       "      <td>0.051382</td>\n",
       "    </tr>\n",
       "    <tr>\n",
       "      <th>50%</th>\n",
       "      <td>0.747142</td>\n",
       "      <td>0.354140</td>\n",
       "      <td>0.536555</td>\n",
       "      <td>0.167509</td>\n",
       "    </tr>\n",
       "    <tr>\n",
       "      <th>75%</th>\n",
       "      <td>0.788895</td>\n",
       "      <td>0.517713</td>\n",
       "      <td>0.582878</td>\n",
       "      <td>0.197997</td>\n",
       "    </tr>\n",
       "    <tr>\n",
       "      <th>max</th>\n",
       "      <td>0.860939</td>\n",
       "      <td>0.607125</td>\n",
       "      <td>0.636981</td>\n",
       "      <td>0.280419</td>\n",
       "    </tr>\n",
       "  </tbody>\n",
       "</table>\n",
       "</div>"
      ],
      "text/plain": [
       "                0           1           2           3\n",
       "count  145.000000  145.000000  145.000000  145.000000\n",
       "mean     0.750652    0.400373    0.461481    0.143900\n",
       "std      0.044970    0.101945    0.156412    0.077251\n",
       "min      0.653877    0.238392    0.168646    0.016695\n",
       "25%      0.714914    0.326599    0.256589    0.051382\n",
       "50%      0.747142    0.354140    0.536555    0.167509\n",
       "75%      0.788895    0.517713    0.582878    0.197997\n",
       "max      0.860939    0.607125    0.636981    0.280419"
      ]
     },
     "execution_count": 19,
     "metadata": {},
     "output_type": "execute_result"
    }
   ],
   "source": [
    "from sklearn import preprocessing\n",
    "x=preprocessing.normalize(x)\n",
    "x=pd.DataFrame(x)\n",
    "x.describe()"
   ]
  },
  {
   "cell_type": "markdown",
   "id": "10018223",
   "metadata": {},
   "source": [
    "# MODELS"
   ]
  },
  {
   "cell_type": "code",
   "execution_count": 20,
   "id": "e4c65c10",
   "metadata": {},
   "outputs": [],
   "source": [
    "# Splitting data into training and testing\n",
    "\n",
    "from sklearn.model_selection import train_test_split\n",
    "x_train,x_test,y_train,y_test=train_test_split(x,y,random_state=42,test_size=0.2)"
   ]
  },
  {
   "cell_type": "markdown",
   "id": "a1de129d",
   "metadata": {},
   "source": [
    "# Logistic Regression Model"
   ]
  },
  {
   "cell_type": "code",
   "execution_count": 21,
   "id": "fbc16e71",
   "metadata": {},
   "outputs": [],
   "source": [
    "# Logitic regression model\n",
    "\n",
    "from sklearn.linear_model import LogisticRegression\n",
    "logis_model=LogisticRegression()\n",
    "logis_model.fit(x_train,y_train)\n",
    "y_pred = logis_model.predict(x_test)"
   ]
  },
  {
   "cell_type": "code",
   "execution_count": 22,
   "id": "d6877fa9",
   "metadata": {},
   "outputs": [
    {
     "name": "stdout",
     "output_type": "stream",
     "text": [
      "Accuracy is:  0.8620689655172413\n",
      "Precision is:  0.9111111111111111\n",
      "Recall is:  0.8518518518518517\n",
      "F1 score is:  0.8534798534798534\n"
     ]
    }
   ],
   "source": [
    "# Valuating the model\n",
    "\n",
    "from sklearn.metrics import confusion_matrix, accuracy_score, precision_score, recall_score, f1_score\n",
    "\n",
    "print(\"Accuracy is: \", accuracy_score(y_test,y_pred))\n",
    "print(\"Precision is: \", precision_score(y_test,y_pred, average = 'macro'))\n",
    "print(\"Recall is: \", recall_score(y_test,y_pred,  average = 'macro'))\n",
    "print(\"F1 score is: \", f1_score(y_test,y_pred,  average = 'macro'))"
   ]
  },
  {
   "cell_type": "code",
   "execution_count": 23,
   "id": "7044debc",
   "metadata": {},
   "outputs": [
    {
     "data": {
      "text/plain": [
       "array([[ 9,  0,  0],\n",
       "       [ 0,  5,  4],\n",
       "       [ 0,  0, 11]], dtype=int64)"
      ]
     },
     "execution_count": 23,
     "metadata": {},
     "output_type": "execute_result"
    }
   ],
   "source": [
    "# Confusion matrix\n",
    "\n",
    "confusion_matrix(y_test,y_pred)"
   ]
  },
  {
   "cell_type": "markdown",
   "id": "2b498a18",
   "metadata": {},
   "source": [
    "# KNN Model"
   ]
  },
  {
   "cell_type": "code",
   "execution_count": 24,
   "id": "aedab1d9",
   "metadata": {},
   "outputs": [
    {
     "name": "stdout",
     "output_type": "stream",
     "text": [
      "Minimum error:- 0.034482758620689655 at K = 12\n"
     ]
    },
    {
     "data": {
      "image/png": "[encoded data removed]",
      "text/plain": [
       "<Figure size 1080x720 with 1 Axes>"
      ]
     },
     "metadata": {
      "needs_background": "light"
     },
     "output_type": "display_data"
    }
   ],
   "source": [
    "# Finding optimal k value\n",
    "\n",
    "from sklearn.neighbors import KNeighborsClassifier\n",
    "\n",
    "error_rate = []\n",
    "\n",
    "for i in range(1,50):\n",
    "    knn = KNeighborsClassifier(n_neighbors=i)\n",
    "    knn.fit(x_train, y_train)\n",
    "    pred = knn.predict(x_test)\n",
    "    error_rate.append(np.mean(pred != y_test))\n",
    "\n",
    "plt.figure(figsize=(15,10))\n",
    "plt.plot(range(1,50),error_rate, marker='o', markersize=9)\n",
    "print(\"Minimum error:-\",min(error_rate),\"at K =\",error_rate.index(min(error_rate)))"
   ]
  },
  {
   "cell_type": "code",
   "execution_count": 25,
   "id": "b386a66d",
   "metadata": {},
   "outputs": [],
   "source": [
    "classifier=KNeighborsClassifier(n_neighbors=16,metric='minkowski')\n",
    "classifier.fit(x_train,y_train)\n",
    "y_pred=classifier.predict(x_test)"
   ]
  },
  {
   "cell_type": "code",
   "execution_count": 26,
   "id": "681a931f",
   "metadata": {},
   "outputs": [
    {
     "name": "stdout",
     "output_type": "stream",
     "text": [
      "Accuracy is:  0.9655172413793104\n",
      "Precision is:  0.9722222222222222\n",
      "Recall is:  0.9629629629629629\n",
      "F1 score is:  0.9658994032395567\n"
     ]
    }
   ],
   "source": [
    "print(\"Accuracy is: \", accuracy_score(y_test,y_pred))\n",
    "print(\"Precision is: \", precision_score(y_test,y_pred, average = 'macro'))\n",
    "print(\"Recall is: \", recall_score(y_test,y_pred,  average = 'macro'))\n",
    "print(\"F1 score is: \", f1_score(y_test,y_pred,  average = 'macro'))"
   ]
  },
  {
   "cell_type": "code",
   "execution_count": 27,
   "id": "75534864",
   "metadata": {},
   "outputs": [
    {
     "data": {
      "text/plain": [
       "array([[ 9,  0,  0],\n",
       "       [ 0,  8,  1],\n",
       "       [ 0,  0, 11]], dtype=int64)"
      ]
     },
     "execution_count": 27,
     "metadata": {},
     "output_type": "execute_result"
    }
   ],
   "source": [
    "confusion_matrix(y_test,y_pred)"
   ]
  },
  {
   "cell_type": "markdown",
   "id": "cee4c7cd",
   "metadata": {},
   "source": [
    "# Decision Tree Model"
   ]
  },
  {
   "cell_type": "code",
   "execution_count": 28,
   "id": "92143f1b",
   "metadata": {},
   "outputs": [],
   "source": [
    "# Decision Tree\n",
    "\n",
    "from sklearn.tree import DecisionTreeClassifier\n",
    "dt_model =DecisionTreeClassifier()\n",
    "dt_model.fit(x_train,y_train)\n",
    "y_pred=dt_model.predict(x_test)"
   ]
  },
  {
   "cell_type": "code",
   "execution_count": 29,
   "id": "4d8479a9",
   "metadata": {},
   "outputs": [
    {
     "name": "stdout",
     "output_type": "stream",
     "text": [
      "Accuracy is:  0.9310344827586207\n",
      "Precision is:  0.9487179487179488\n",
      "Recall is:  0.9259259259259259\n",
      "F1 score is:  0.9305555555555555\n"
     ]
    }
   ],
   "source": [
    "print(\"Accuracy is: \", accuracy_score(y_test,y_pred))\n",
    "print(\"Precision is: \", precision_score(y_test,y_pred, average = 'macro'))\n",
    "print(\"Recall is: \", recall_score(y_test,y_pred,  average = 'macro'))\n",
    "print(\"F1 score is: \", f1_score(y_test,y_pred,  average = 'macro'))"
   ]
  },
  {
   "cell_type": "code",
   "execution_count": 30,
   "id": "ed046216",
   "metadata": {},
   "outputs": [
    {
     "data": {
      "text/plain": [
       "array([[ 9,  0,  0],\n",
       "       [ 0,  7,  2],\n",
       "       [ 0,  0, 11]], dtype=int64)"
      ]
     },
     "execution_count": 30,
     "metadata": {},
     "output_type": "execute_result"
    }
   ],
   "source": [
    "confusion_matrix(y_test,y_pred)"
   ]
  },
  {
   "cell_type": "markdown",
   "id": "cb218724",
   "metadata": {},
   "source": [
    "# Support Vector Machine"
   ]
  },
  {
   "cell_type": "code",
   "execution_count": 31,
   "id": "93596652",
   "metadata": {},
   "outputs": [],
   "source": [
    "# Radial SVM model\n",
    "\n",
    "from sklearn.svm import SVC\n",
    "svm_linear=SVC(kernel='rbf')\n",
    "svm_linear.fit(x_train,y_train)\n",
    "y_pred=svm_linear.predict(x_test)"
   ]
  },
  {
   "cell_type": "code",
   "execution_count": 32,
   "id": "b6a44446",
   "metadata": {},
   "outputs": [
    {
     "name": "stdout",
     "output_type": "stream",
     "text": [
      "Accuracy is:  0.9655172413793104\n",
      "Precision is:  0.9722222222222222\n",
      "Recall is:  0.9629629629629629\n",
      "F1 score is:  0.9658994032395567\n"
     ]
    }
   ],
   "source": [
    "print(\"Accuracy is: \", accuracy_score(y_test,y_pred))\n",
    "print(\"Precision is: \", precision_score(y_test,y_pred, average = 'macro'))\n",
    "print(\"Recall is: \", recall_score(y_test,y_pred,  average = 'macro'))\n",
    "print(\"F1 score is: \", f1_score(y_test,y_pred,  average = 'macro'))"
   ]
  },
  {
   "cell_type": "code",
   "execution_count": 33,
   "id": "cbbe1f55",
   "metadata": {},
   "outputs": [
    {
     "data": {
      "text/plain": [
       "array([[ 9,  0,  0],\n",
       "       [ 0,  8,  1],\n",
       "       [ 0,  0, 11]], dtype=int64)"
      ]
     },
     "execution_count": 33,
     "metadata": {},
     "output_type": "execute_result"
    }
   ],
   "source": [
    "confusion_matrix(y_test,y_pred)"
   ]
  },
  {
   "cell_type": "markdown",
   "id": "b02dbdc1",
   "metadata": {},
   "source": [
    "# Random Forest"
   ]
  },
  {
   "cell_type": "code",
   "execution_count": 34,
   "id": "774f1b76",
   "metadata": {},
   "outputs": [],
   "source": [
    "# Random forest model\n",
    "\n",
    "from sklearn.ensemble import RandomForestClassifier\n",
    "rf = RandomForestClassifier()\n",
    "rf.fit(x_train,y_train)\n",
    "y_pred = rf.predict(x_test)"
   ]
  },
  {
   "cell_type": "code",
   "execution_count": 35,
   "id": "adb6a21e",
   "metadata": {},
   "outputs": [
    {
     "name": "stdout",
     "output_type": "stream",
     "text": [
      "Accuracy is:  0.9310344827586207\n",
      "Precision is:  0.9326599326599326\n",
      "Recall is:  0.9326599326599326\n",
      "F1 score is:  0.9326599326599326\n"
     ]
    }
   ],
   "source": [
    "print(\"Accuracy is: \", accuracy_score(y_test,y_pred))\n",
    "print(\"Precision is: \", precision_score(y_test,y_pred,  average = 'macro'))\n",
    "print(\"Recall is: \", recall_score(y_test,y_pred,  average = 'macro'))\n",
    "print(\"F1 score is: \", f1_score(y_test,y_pred, average = 'macro'))"
   ]
  },
  {
   "cell_type": "code",
   "execution_count": 37,
   "id": "922d5e80",
   "metadata": {},
   "outputs": [
    {
     "data": {
      "text/plain": [
       "array([[ 9,  0,  0],\n",
       "       [ 0,  8,  1],\n",
       "       [ 0,  1, 10]], dtype=int64)"
      ]
     },
     "execution_count": 37,
     "metadata": {},
     "output_type": "execute_result"
    }
   ],
   "source": [
    "confusion_matrix (y_test, y_pred)"
   ]
  },
  {
   "cell_type": "markdown",
   "id": "3da39817",
   "metadata": {},
   "source": [
    "# Feature Importance"
   ]
  },
  {
   "cell_type": "code",
   "execution_count": 38,
   "id": "eeb81953",
   "metadata": {},
   "outputs": [
    {
     "data": {
      "text/plain": [
       "2    37.101889\n",
       "3    31.511325\n",
       "1    19.823534\n",
       "0    11.563252\n",
       "dtype: float64"
      ]
     },
     "execution_count": 38,
     "metadata": {},
     "output_type": "execute_result"
    }
   ],
   "source": [
    "pd.Series(rf.feature_importances_, index = x.columns).sort_values(ascending=False)*100"
   ]
  },
  {
   "cell_type": "markdown",
   "id": "53b92dc8",
   "metadata": {},
   "source": [
    "# Conclusion"
   ]
  },
  {
   "cell_type": "markdown",
   "id": "176fbe39",
   "metadata": {},
   "source": [
    "###  Insight : Out of the 5 models SVM and Random forest gave the highest accuracy and they are the best models"
   ]
  }
 ],
 "metadata": {
  "kernelspec": {
   "display_name": "Python 3 (ipykernel)",
   "language": "python",
   "name": "python3"
  },
  "language_info": {
   "codemirror_mode": {
    "name": "ipython",
    "version": 3
   },
   "file_extension": ".py",
   "mimetype": "text/x-python",
   "name": "python",
   "nbconvert_exporter": "python",
   "pygments_lexer": "ipython3",
   "version": "3.9.7"
  }
 },
 "nbformat": 4,
 "nbformat_minor": 5
}
